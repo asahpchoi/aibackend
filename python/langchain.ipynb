{
 "cells": [
  {
   "cell_type": "code",
   "execution_count": 1,
   "metadata": {},
   "outputs": [],
   "source": [
    "!pip install langchain\n",
    "!pip install langchain_openai\n",
    "!pip install langgraph\n",
    "!pip install langchain_community"
   ]
  },
  {
   "cell_type": "code",
   "execution_count": 2,
   "metadata": {},
   "outputs": [
    {
     "name": "stdout",
     "output_type": "stream",
     "text": [
      "getCustomerID, 12345\n",
      "getingPolicyInfo, policy found for 12345 product: set for life, premium: 20000\n"
     ]
    }
   ],
   "source": [
    "from langchain_core.output_parsers import StrOutputParser\n",
    "from langchain_core.runnables import RunnablePassthrough\n",
    "from langchain_openai import OpenAIEmbeddings\n",
    "from langchain_text_splitters import RecursiveCharacterTextSplitter\n",
    "from langchain_core.messages import HumanMessage, SystemMessage\n",
    "from langgraph.prebuilt import create_react_agent\n",
    "from langchain_community.tools import WikipediaQueryRun\n",
    "from langchain_community.utilities import WikipediaAPIWrapper\n",
    "\n",
    "import os\n",
    "from langchain_core.prompts import ChatPromptTemplate, MessagesPlaceholder\n",
    "from langchain_openai import AzureChatOpenAI\n",
    "\n",
    "\n",
    "os.environ[\"AZURE_OPENAI_API_KEY\"] = 'b3e819600fbe4981be34ef2aa79943e2'\n",
    "\n",
    "from langchain_core.tools import tool\n",
    "\n",
    "\n",
    "@tool\n",
    "def multiply(a: int, b: int) -> int:\n",
    "    \"\"\"Multiply two numbers.\"\"\"\n",
    "    return a * b\n",
    "\n",
    "@tool\n",
    "def getingPolicyInfo(customerId: str):\n",
    "    \"\"\"\n",
    "    \"use this tool when you need to get Policy Information, and you must provide the customer ID\"\n",
    "    \"\"\"\n",
    "   \n",
    "    return f\"policy found for {customerId} product: set for life, premium: 20000\"\n",
    "\n",
    "@tool\n",
    "def getCustomerID(name: str, phone: str):\n",
    "  \"\"\"get the customerID base on customer name and phone number, both phone and name are mandatory\"\"\"\n",
    "  return \"12345\"\n",
    "\n",
    "\n",
    "tools = [getingPolicyInfo, getCustomerID]\n",
    " \n",
    "\n",
    "llm = AzureChatOpenAI(\n",
    "    azure_endpoint=\"https://ik-oai-eastus-2.openai.azure.com/\",\n",
    "    azure_deployment=\"gpt-4o\",\n",
    "    openai_api_version=\"2023-09-01-preview\",\n",
    ")\n",
    "\n",
    "\n",
    "agent_executor = create_react_agent(llm, tools)\n",
    "prompt = {\"messages\": [HumanMessage(content=f\"What is the premium info for Asa Choi?\")]}\n",
    "for chunk in agent_executor.stream(prompt):\n",
    "    if(chunk.get(\"tools\")):\n",
    "      m = chunk[\"tools\"][\"messages\"][0]\n",
    "      print(f\"{m.name}, {m.content}\")\n",
    " "
   ]
  }
 ],
 "metadata": {
  "kernelspec": {
   "display_name": "Python 3",
   "language": "python",
   "name": "python3"
  },
  "language_info": {
   "codemirror_mode": {
    "name": "ipython",
    "version": 3
   },
   "file_extension": ".py",
   "mimetype": "text/x-python",
   "name": "python",
   "nbconvert_exporter": "python",
   "pygments_lexer": "ipython3",
   "version": "3.10.13"
  }
 },
 "nbformat": 4,
 "nbformat_minor": 2
}
